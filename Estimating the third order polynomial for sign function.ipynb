{
 "cells": [
  {
   "cell_type": "code",
   "execution_count": 21,
   "id": "0954a970-3961-4bb0-afcf-b27a87a12371",
   "metadata": {},
   "outputs": [],
   "source": [
    "import torch\n",
    "import math"
   ]
  },
  {
   "cell_type": "code",
   "execution_count": 22,
   "id": "c062729c-4d6d-4bc7-9b9f-909030e03dc2",
   "metadata": {},
   "outputs": [],
   "source": [
    "dtype = torch.float\n",
    "device = torch.device(\"cpu\")\n"
   ]
  },
  {
   "cell_type": "code",
   "execution_count": 29,
   "id": "22e2a2b2-16da-4a07-b676-16e6739271a8",
   "metadata": {},
   "outputs": [],
   "source": [
    "#Create random input and output data\n",
    "x = torch.linspace(-math.pi, math.pi, 2000, device=device, dtype=dtype) #The function torch.linspace() returns a one-dimensional tensor of steps equally spaced points between start and end.\n",
    "y = torch.sin(x)"
   ]
  },
  {
   "cell_type": "code",
   "execution_count": 30,
   "id": "47b16fb3-98f0-4091-9f7c-42eaccd94d5e",
   "metadata": {},
   "outputs": [],
   "source": [
    "#Randomaly intialize weights\n",
    "a = torch.randn((), device=device, dtype=dtype, requires_grad=True)\n",
    "b = torch.randn((), device=device, dtype=dtype, requires_grad=True)\n",
    "c = torch.randn((), device=device, dtype=dtype, requires_grad=True)\n",
    "d = torch.randn((), device=device, dtype=dtype, requires_grad=True)\n"
   ]
  },
  {
   "cell_type": "code",
   "execution_count": 31,
   "id": "8125283f-6fac-46ff-893f-38cc7c8f8ff4",
   "metadata": {},
   "outputs": [],
   "source": [
    "learning_rate = 1e-6"
   ]
  },
  {
   "cell_type": "code",
   "execution_count": 32,
   "id": "2a505112-bb71-42e4-a36e-ddfb92d7cb52",
   "metadata": {},
   "outputs": [
    {
     "name": "stdout",
     "output_type": "stream",
     "text": [
      "99 1459.555419921875\n",
      "199 973.2669067382812\n",
      "299 650.203369140625\n",
      "399 435.5122985839844\n",
      "499 292.7941589355469\n",
      "599 197.8882293701172\n",
      "699 134.7540283203125\n",
      "799 92.73954772949219\n",
      "899 64.76830291748047\n",
      "999 46.13861083984375\n",
      "1099 33.72507858276367\n",
      "1199 25.449710845947266\n",
      "1299 19.930198669433594\n",
      "1399 16.246898651123047\n",
      "1499 13.787511825561523\n",
      "1599 12.144482612609863\n",
      "1699 11.046142578125\n",
      "1799 10.311432838439941\n",
      "1899 9.81966495513916\n",
      "1999 9.490265846252441\n",
      "\n",
      "Result: y = 0.013199207372963428 + 0.8346250653266907 x + -0.002277082996442914 x^2 + -0.09018461406230927 x^3\n"
     ]
    }
   ],
   "source": [
    "for t in range(2000):\n",
    "    \n",
    "    #forward pass :compute predicted y\n",
    "    y_pred = a + (b*x) + (c*x**2) + (d*x**3)\n",
    "    \n",
    "    #compute and print loss\n",
    "    loss = (y_pred -y).pow(2).sum()\n",
    "    \n",
    "    if t%100 == 99:\n",
    "        print(t, loss.item())\n",
    "    \n",
    "    #use autograd to compute the backward pass. This clall will compute the gradient of loss with respect\n",
    "    #to all Tensors with requires_grad=True. After this call a.grad, b.grad, c.grad and d.grad will be \n",
    "    # Tensor holding the gradient of the loss with respecct to a, b, c, d respectively.\n",
    "    loss.backward()\n",
    "   \n",
    "    \n",
    "    #Manually update weights using gradient descent. Wrap in torch.no_grad()\n",
    "    #\n",
    "    with torch.no_grad():\n",
    "        a -= learning_rate * a.grad\n",
    "        b -= learning_rate * b.grad\n",
    "        c -= learning_rate * c.grad\n",
    "        d -= learning_rate * d.grad\n",
    "    \n",
    "        #manually zero the gradients after updating the weights\n",
    "        a.grad = None\n",
    "        b.grad = None\n",
    "        c.grad = None\n",
    "        d.grad = None\n",
    "    \n",
    "print(f\"\\nResult: y = {a.item()} + {b.item()} x + {c.item()} x^2 + {d.item()} x^3\")\n",
    "    "
   ]
  },
  {
   "cell_type": "code",
   "execution_count": null,
   "id": "1c1164f4-c0e4-4dd8-808b-bf63baa11dda",
   "metadata": {},
   "outputs": [],
   "source": []
  }
 ],
 "metadata": {
  "kernelspec": {
   "display_name": "Python 3 (ipykernel)",
   "language": "python",
   "name": "python3"
  },
  "language_info": {
   "codemirror_mode": {
    "name": "ipython",
    "version": 3
   },
   "file_extension": ".py",
   "mimetype": "text/x-python",
   "name": "python",
   "nbconvert_exporter": "python",
   "pygments_lexer": "ipython3",
   "version": "3.9.13"
  }
 },
 "nbformat": 4,
 "nbformat_minor": 5
}
