{
 "cells": [
  {
   "cell_type": "markdown",
   "id": "8c93ec12-2c19-4882-920e-056c6676e865",
   "metadata": {},
   "source": [
    "  ## MNIST data setup"
   ]
  },
  {
   "cell_type": "code",
   "execution_count": 1,
   "id": "9c128003-3623-43f1-8984-623670b093d4",
   "metadata": {},
   "outputs": [],
   "source": [
    "from pathlib import Path\n",
    "import requests"
   ]
  },
  {
   "cell_type": "code",
   "execution_count": 2,
   "id": "e99ebb82-5a40-4c34-aaff-dc8525dfa497",
   "metadata": {},
   "outputs": [],
   "source": [
    "DATA_PATH = Path(\"data\")\n",
    "PATH = DATA_PATH / \"mnist\"\n",
    "\n",
    "PATH.mkdir(parents=True, exist_ok=True)\n",
    "\n",
    "URL = \"https://github.com/pytorch/tutorials/raw/master/_static/\"\n",
    "FILENAME = \"mnist.pkl.gz\"\n",
    "\n",
    "if not (PATH / FILENAME).exists():\n",
    "    content = requests.get(URL + FILENAME).content\n",
    "    (PATH / FILENAME).open(\"wb\").write(content)"
   ]
  },
  {
   "cell_type": "markdown",
   "id": "1735d72a-69b6-4333-b109-38330a929b52",
   "metadata": {},
   "source": [
    "This dataset is in numpy array format, and has been stored using piclke, a python-specific format for serializing data."
   ]
  },
  {
   "cell_type": "code",
   "execution_count": 3,
   "id": "e705e6ca-c88c-4344-86e7-e8478e47c1cd",
   "metadata": {},
   "outputs": [],
   "source": [
    "import pickle \n",
    "import gzip\n",
    "\n",
    "with gzip.open((PATH/FILENAME).as_posix(), \"rb\") as f:\n",
    "    ((x_train, y_train), (x_valid, y_valid), _) = pickle.load(f, encoding='latin-1')"
   ]
  },
  {
   "cell_type": "markdown",
   "id": "22a2030e-d703-468e-8bc3-aa93a296e356",
   "metadata": {},
   "source": [
    "Each image is 28\\*28, and is being stored as a flattened row of length 784(=28*28). Let's take a look at one, we need to reshape it to 2d first"
   ]
  },
  {
   "cell_type": "code",
   "execution_count": 4,
   "id": "57a22d4c-7a41-465a-885a-52394980231f",
   "metadata": {},
   "outputs": [
    {
     "name": "stdout",
     "output_type": "stream",
     "text": [
      "(50000, 784)\n"
     ]
    },
    {
     "data": {
      "image/png": "[encoded data removed]",
      "text/plain": [
       "<Figure size 640x480 with 1 Axes>"
      ]
     },
     "metadata": {},
     "output_type": "display_data"
    }
   ],
   "source": [
    "from matplotlib import pyplot\n",
    "import numpy as np\n",
    "\n",
    "pyplot.imshow(x_train[0].reshape((28,28)), cmap=\"gray\")\n",
    "print(x_train.shape)"
   ]
  },
  {
   "cell_type": "markdown",
   "id": "f9696048-21be-496a-9323-3125dcf838c4",
   "metadata": {},
   "source": [
    "PyTorch uses `torch.tensor`, rather than numpy arrays, so we need to convert our data"
   ]
  },
  {
   "cell_type": "code",
   "execution_count": 5,
   "id": "4919b1b6-186e-4924-bba8-7a8acce59f9c",
   "metadata": {},
   "outputs": [
    {
     "name": "stdout",
     "output_type": "stream",
     "text": [
      "tensor([[0., 0., 0.,  ..., 0., 0., 0.],\n",
      "        [0., 0., 0.,  ..., 0., 0., 0.],\n",
      "        [0., 0., 0.,  ..., 0., 0., 0.],\n",
      "        ...,\n",
      "        [0., 0., 0.,  ..., 0., 0., 0.],\n",
      "        [0., 0., 0.,  ..., 0., 0., 0.],\n",
      "        [0., 0., 0.,  ..., 0., 0., 0.]]) tensor([5, 0, 4,  ..., 8, 4, 8])\n",
      "torch.Size([50000, 784])\n",
      "tensor(0) tensor(9)\n"
     ]
    }
   ],
   "source": [
    "import torch\n",
    "\n",
    "x_train, y_train, x_valid, y_valid = map(torch.tensor, (x_train, y_train, x_valid, y_valid))\n",
    "n, c = x_train.shape\n",
    "#x_train, x_train.shape, y_train.min(), y_train.max()\n",
    "\n",
    "print(x_train, y_train)\n",
    "print(x_train.shape)\n",
    "print(y_train.min(), y_train.max())"
   ]
  },
  {
   "cell_type": "code",
   "execution_count": null,
   "id": "10d23786-a66e-4ffa-889c-5d2608e20613",
   "metadata": {},
   "outputs": [],
   "source": []
  },
  {
   "cell_type": "markdown",
   "id": "69ebeb16-cbf8-47d0-b1b8-0a42a2a2a0d8",
   "metadata": {},
   "source": [
    "## Neural network from scratch (no torch.nn)"
   ]
  },
  {
   "cell_type": "code",
   "execution_count": 6,
   "id": "dc3f70f1-be39-4814-9206-27db6d6e9bfa",
   "metadata": {},
   "outputs": [],
   "source": [
    "import math\n",
    "\n",
    "weights = torch.randn(784, 10)/ math.sqrt(784) # Xavier Initialization\n",
    "weights.requires_grad_()\n",
    "bias = torch.zeros(10, requires_grad = True)\n"
   ]
  },
  {
   "cell_type": "code",
   "execution_count": 7,
   "id": "609e0948-6d75-42df-82ca-d65542425c9a",
   "metadata": {},
   "outputs": [],
   "source": [
    "def log_softmax(x):\n",
    "    return x - x.exp().sum(-1).log().unsqueeze(-1)\n",
    "\n",
    "def model(xb):\n",
    "    return log_softmax(xb @ weights + bias) # @:the dot product"
   ]
  },
  {
   "cell_type": "code",
   "execution_count": 8,
   "id": "78b33419-39cb-46f4-a1d2-b409e13cb769",
   "metadata": {},
   "outputs": [
    {
     "name": "stdout",
     "output_type": "stream",
     "text": [
      "tensor([-2.3808, -2.6537, -2.5071, -1.6205, -2.2576, -2.3833, -2.3864, -2.3507,\n",
      "        -2.3479, -2.5493], grad_fn=<SelectBackward>) torch.Size([64, 10])\n"
     ]
    }
   ],
   "source": [
    "bs = 64 # batch size\n",
    "xb = x_train[0:bs]\n",
    "preds = model(xb)\n",
    "\n",
    "print(preds[0], preds.shape)"
   ]
  },
  {
   "cell_type": "markdown",
   "id": "b1381977-5914-410f-af12-b4bd6d992dbe",
   "metadata": {},
   "source": [
    "Let's implement negative log-likelihood to use a the loss function "
   ]
  },
  {
   "cell_type": "code",
   "execution_count": 9,
   "id": "9fecb633-5935-494e-9cbf-5e2c7dc70368",
   "metadata": {},
   "outputs": [],
   "source": [
    "def nll(input, target):\n",
    "    return -input[range(target.shape[0]), target].mean()\n",
    "\n",
    "loss_func = nll"
   ]
  },
  {
   "cell_type": "markdown",
   "id": "eb5d8023-ff07-4e32-81c7-da4994896c26",
   "metadata": {},
   "source": [
    "Let's check our loss with our random model, so we can see if we imporve after a backprop pass later"
   ]
  },
  {
   "cell_type": "code",
   "execution_count": 10,
   "id": "174c93d6-d471-40a1-a723-94590832cf30",
   "metadata": {},
   "outputs": [
    {
     "name": "stdout",
     "output_type": "stream",
     "text": [
      "tensor(2.2825, grad_fn=<NegBackward>)\n"
     ]
    }
   ],
   "source": [
    "yb = y_train[0:bs]\n",
    "print(loss_func(preds, yb))"
   ]
  },
  {
   "cell_type": "markdown",
   "id": "7e8233fb-aca6-4bca-9615-a6828169b1d5",
   "metadata": {},
   "source": [
    "Let's check the accuracy of our model. For each prediction, if the index with the larget value matches the target value, then the prediction was correct"
   ]
  },
  {
   "cell_type": "code",
   "execution_count": 11,
   "id": "44c0441b-2641-44e3-b0f4-b90987355bc4",
   "metadata": {},
   "outputs": [],
   "source": [
    "def accuracy(out, yb):\n",
    "    preds = torch.argmax(out, dim =1)\n",
    "    return (preds ==yb).float().mean()"
   ]
  },
  {
   "cell_type": "code",
   "execution_count": 12,
   "id": "a16e428f-bb37-4c96-ba58-29c075dc4aa9",
   "metadata": {},
   "outputs": [
    {
     "name": "stdout",
     "output_type": "stream",
     "text": [
      "tensor(0.0938)\n"
     ]
    }
   ],
   "source": [
    "print(accuracy(preds, yb))"
   ]
  },
  {
   "cell_type": "markdown",
   "id": "a5e6dbcd-46bd-4cf3-8d8f-8773bcecb6bd",
   "metadata": {},
   "source": [
    "We can now run a training loop. for each iteration, we will: <br>\n",
    "- select a mini-batch of data os size bs\n",
    "- use the model to make predictions\n",
    "- calculate the loss\n",
    "- `loss.backward()` updates the gradients of the model, in this case, weights and bias"
   ]
  },
  {
   "cell_type": "code",
   "execution_count": 13,
   "id": "2d4d14cd-0669-4029-8718-0d3c787ecbc7",
   "metadata": {},
   "outputs": [],
   "source": [
    "from IPython.core.debugger import set_trace\n",
    "\n",
    "lr = 0.5\n",
    "epochs = 2\n",
    "\n",
    "for epoch in range(epochs):\n",
    "    for i in range((n-1) // bs +1):\n",
    "        start_i = i * bs \n",
    "        end_i = start_i + bs\n",
    "        xb = x_train[start_i: end_i]\n",
    "        yb = y_train[start_i: end_i]\n",
    "        \n",
    "        pred = model(xb)\n",
    "        loss = loss_func(pred, yb)\n",
    "        \n",
    "        loss.backward()\n",
    "        with torch.no_grad():\n",
    "            weights -= weights.grad*lr\n",
    "            bias -= bias.grad*lr\n",
    "            weights.grad.zero_()\n",
    "            bias.grad.zero_()"
   ]
  },
  {
   "cell_type": "code",
   "execution_count": 14,
   "id": "acafb32d-9d2e-4750-a897-6131b01bf6cc",
   "metadata": {},
   "outputs": [
    {
     "name": "stdout",
     "output_type": "stream",
     "text": [
      "tensor(0.0812, grad_fn=<NegBackward>) tensor(1.)\n"
     ]
    }
   ],
   "source": [
    "print(loss_func(model(xb), yb), accuracy(model(xb), yb))"
   ]
  },
  {
   "cell_type": "markdown",
   "id": "7f84d3cb-bc6d-4e53-a52d-d2b611edbbdc",
   "metadata": {},
   "source": [
    "### adding `F.cross_entropy` for the `torch.nn.functional` module"
   ]
  },
  {
   "cell_type": "code",
   "execution_count": 15,
   "id": "256c0c56-b041-4723-8d2c-50304a021bba",
   "metadata": {},
   "outputs": [],
   "source": [
    "import torch.nn.functional as F \n",
    "\n",
    "loss_func = F.cross_entropy\n",
    "\n",
    "def model(xb):\n",
    "    return xb @ weights + bias"
   ]
  },
  {
   "cell_type": "code",
   "execution_count": 16,
   "id": "5c7b36f8-ea75-4f77-87b8-4d6d6d7fdcb5",
   "metadata": {},
   "outputs": [
    {
     "name": "stdout",
     "output_type": "stream",
     "text": [
      "tensor(0.0812, grad_fn=<NllLossBackward>) tensor(1.)\n"
     ]
    }
   ],
   "source": [
    "print(loss_func(model(xb), yb), accuracy(model(xb), yb))"
   ]
  },
  {
   "cell_type": "markdown",
   "id": "9c9e86ab-386f-44dd-8620-2e143541c99f",
   "metadata": {},
   "source": [
    "### Refactoring uing nn.Module"
   ]
  },
  {
   "cell_type": "code",
   "execution_count": 17,
   "id": "6b3c4134-987e-4351-af1b-e1a443584e62",
   "metadata": {},
   "outputs": [],
   "source": [
    "from torch import nn\n",
    "\n",
    "class MNIST_Logistic(nn.Module):\n",
    "    def __init__(self):\n",
    "        super().__init__()\n",
    "        self.weights = nn.Parameter(torch.randn(784,10)/ math.sqrt(784))\n",
    "        self.bias = nn.Parameter(torch.zeros(10))\n",
    "        \n",
    "    def forward(self, xb):\n",
    "        return xb @ self.weights + self.bias"
   ]
  },
  {
   "cell_type": "code",
   "execution_count": 18,
   "id": "5b40ae53-3271-4059-9c87-53d418547a3f",
   "metadata": {},
   "outputs": [],
   "source": [
    "model = MNIST_Logistic()"
   ]
  },
  {
   "cell_type": "code",
   "execution_count": 19,
   "id": "9a5b3da0-0601-479a-b141-12bf3ec9f8a4",
   "metadata": {},
   "outputs": [],
   "source": [
    "for epoch in range(epochs):\n",
    "    for i in range((n-1) // bs +1):\n",
    "        start_i = i * bs \n",
    "        end_i = start_i + bs\n",
    "        xb = x_train[start_i: end_i]\n",
    "        yb = y_train[start_i: end_i]\n",
    "        \n",
    "        pred = model(xb)\n",
    "        loss = loss_func(pred, yb)\n",
    "        \n",
    "        loss.backward()\n",
    "        with torch.no_grad():\n",
    "            for p in model.parameters():\n",
    "                p -= p.grad * lr\n",
    "            model.zero_grad()"
   ]
  },
  {
   "cell_type": "code",
   "execution_count": 20,
   "id": "0b7fc22d-6cde-4b54-9718-af3815f4579e",
   "metadata": {},
   "outputs": [
    {
     "name": "stdout",
     "output_type": "stream",
     "text": [
      "tensor(0.0813, grad_fn=<NllLossBackward>)\n"
     ]
    }
   ],
   "source": [
    "print(loss_func(model(xb), yb))"
   ]
  },
  {
   "cell_type": "markdown",
   "id": "4bc15f5e-22d8-408f-b63e-7865919dd8ad",
   "metadata": {},
   "source": [
    "## Building the whole model, with custom dataset and dataset loader"
   ]
  },
  {
   "cell_type": "code",
   "execution_count": 50,
   "id": "16722c2b-1b8a-4142-912f-345982b3afde",
   "metadata": {},
   "outputs": [],
   "source": [
    "import pickle \n",
    "import gzip\n",
    "import random\n",
    "\n",
    "import torch\n",
    "from torch import nn\n",
    "from torch.utils.data import DataLoader\n",
    "from torch.utils.data import Dataset\n",
    "from torchvision import transforms\n",
    "from torchvision.transforms import ToTensor, Lambda, Resize\n",
    "import matplotlib.pyplot as plt\n",
    "import torch.nn.functional as F \n",
    "import numpy as np"
   ]
  },
  {
   "cell_type": "code",
   "execution_count": 22,
   "id": "6b90224c-8911-49cf-b5a6-e7b1e59cbb9a",
   "metadata": {},
   "outputs": [],
   "source": [
    "\n",
    "with gzip.open((PATH/FILENAME).as_posix(), \"rb\") as f:\n",
    "    ((x_train, y_train), (x_valid, y_valid), _) = pickle.load(f, encoding='latin-1')"
   ]
  },
  {
   "cell_type": "code",
   "execution_count": 23,
   "id": "3eb52ee9-9be1-44d3-b1dd-c48d67670505",
   "metadata": {},
   "outputs": [],
   "source": [
    "class MNIST_DATASET(Dataset):\n",
    "    def __init__(self, x, y, transform=None, target_transform=None):\n",
    "        self.x = x\n",
    "        self.y = y\n",
    "        self.transform = transform\n",
    "        self.target_transform = target_transform\n",
    "        \n",
    "        \n",
    "    def __len__(self):\n",
    "        return len(self.y)\n",
    "    \n",
    "    def __getitem__(self, idx):\n",
    "        x_data = self.x[idx]\n",
    "        label = self.y[idx]\n",
    "        \n",
    "        if self.transform:\n",
    "            x_data = self.transform(x_data)\n",
    "            \n",
    "        if self.target_transform:\n",
    "            label = self.target_transform(label)\n",
    "        \n",
    "        \n",
    "        #sample = {\"image\": image, \"label\": label}\n",
    "       \n",
    "        return x_data, label # torch.tensor([float(label)])\n",
    "    "
   ]
  },
  {
   "cell_type": "code",
   "execution_count": 24,
   "id": "967256b8-9b16-4769-933d-0446acf5fcf9",
   "metadata": {},
   "outputs": [
    {
     "name": "stdout",
     "output_type": "stream",
     "text": [
      "Using cuda device\n"
     ]
    }
   ],
   "source": [
    "#Get cpu or gpu device for training\n",
    "device = \"cuda\" if torch.cuda.is_available() else \"cpu\"\n",
    "print(\"Using {} device\".format(device))"
   ]
  },
  {
   "cell_type": "code",
   "execution_count": 25,
   "id": "83b31394-80ae-4165-81a0-ee67708b7834",
   "metadata": {},
   "outputs": [],
   "source": [
    "batch_size = 64\n",
    "\n",
    "def process(x):\n",
    "    x = np.array(x)\n",
    "    return x.reshape(28, 28)\n",
    "\n",
    "def one_hot_encoding(x):\n",
    "    x = F.one_hot(x, num_classes=10)\n",
    "    return x\n",
    "\n",
    "def label_convert(x):\n",
    "    return [x]\n",
    "\n",
    "transform = transforms.Compose(\n",
    "        [\n",
    "        transforms.Lambda(process),\n",
    "        transforms.ToPILImage(),\n",
    "        transforms.Resize((28,28)),\n",
    "        transforms.ToTensor()\n",
    "        ])\n",
    "\n",
    "target_transform = transforms.Compose(\n",
    "    [ \n",
    "        transforms.Lambda(label_convert),\n",
    "        transforms.Lambda(torch.tensor),\n",
    "        #transforms.Lambda(one_hot_encoding),\n",
    "        \n",
    "     ]\n",
    "    )\n",
    "\n",
    "\n",
    "train_ds = MNIST_DATASET(x_train, y_train, transform=transform, target_transform=target_transform)\n",
    "valid_ds = MNIST_DATASET(x_valid, y_valid, transform=transform)\n",
    "\n",
    "train_dl = DataLoader(train_ds,  batch_size=batch_size, shuffle=True)\n",
    "valid_dl = DataLoader(valid_ds,  batch_size=batch_size*2)"
   ]
  },
  {
   "cell_type": "code",
   "execution_count": 26,
   "id": "a421a673-460e-4409-89df-1f20899ffa8a",
   "metadata": {},
   "outputs": [
    {
     "name": "stdout",
     "output_type": "stream",
     "text": [
      "Shape of X [N, C, H, W]:  torch.Size([64, 1, 28, 28])\n",
      "shape of y:  torch.Size([64, 1])\n"
     ]
    },
    {
     "name": "stderr",
     "output_type": "stream",
     "text": [
      "C:\\Users\\root\\anaconda3\\envs\\torch-env\\lib\\site-packages\\torchvision\\transforms\\functional.py:132: UserWarning: The given NumPy array is not writeable, and PyTorch does not support non-writeable tensors. This means you can write to the underlying (supposedly non-writeable) NumPy array using the tensor. You may want to copy the array to protect its data or make it writeable before converting it to a tensor. This type of warning will be suppressed for the rest of this program. (Triggered internally at  ..\\torch\\csrc\\utils\\tensor_numpy.cpp:143.)\n",
      "  img = torch.from_numpy(np.array(pic, np.float32, copy=False))\n"
     ]
    }
   ],
   "source": [
    "for (X, y) in train_dl:\n",
    "    print(\"Shape of X [N, C, H, W]: \", X.shape)\n",
    "    print(\"shape of y: \", y.shape)\n",
    "    break"
   ]
  },
  {
   "cell_type": "code",
   "execution_count": 27,
   "id": "49d045fd-3966-4c78-80d9-81142c806f2e",
   "metadata": {},
   "outputs": [
    {
     "name": "stdout",
     "output_type": "stream",
     "text": [
      "MNIST_CNN(\n",
      "  (conv1): Sequential(\n",
      "    (0): Conv2d(1, 16, kernel_size=(3, 3), stride=(1, 1), padding=(1, 1))\n",
      "    (1): ReLU()\n",
      "    (2): MaxPool2d(kernel_size=2, stride=2, padding=0, dilation=1, ceil_mode=False)\n",
      "  )\n",
      "  (conv2): Sequential(\n",
      "    (0): Conv2d(16, 16, kernel_size=(3, 3), stride=(1, 1), padding=(1, 1))\n",
      "    (1): ReLU()\n",
      "    (2): MaxPool2d(kernel_size=2, stride=2, padding=0, dilation=1, ceil_mode=False)\n",
      "  )\n",
      "  (conv3): Sequential(\n",
      "    (0): Conv2d(16, 16, kernel_size=(3, 3), stride=(1, 1), padding=(1, 1))\n",
      "    (1): ReLU()\n",
      "    (2): MaxPool2d(kernel_size=2, stride=2, padding=0, dilation=1, ceil_mode=False)\n",
      "  )\n",
      "  (fc): Sequential(\n",
      "    (0): Linear(in_features=144, out_features=256, bias=True)\n",
      "    (1): ReLU()\n",
      "    (2): Linear(in_features=256, out_features=256, bias=True)\n",
      "    (3): ReLU()\n",
      "    (4): Linear(in_features=256, out_features=128, bias=True)\n",
      "    (5): ReLU()\n",
      "    (6): Linear(in_features=128, out_features=10, bias=True)\n",
      "  )\n",
      ")\n"
     ]
    }
   ],
   "source": [
    "class MNIST_CNN(nn.Module):\n",
    "    def __init__(self, num_classes=10):\n",
    "        super(MNIST_CNN, self).__init__()\n",
    "        self.conv1 = nn.Sequential(\n",
    "            nn.Conv2d(1, 16, kernel_size=3, stride=1, padding=1),\n",
    "            nn.ReLU(),\n",
    "            nn.MaxPool2d(kernel_size=2, stride=2)\n",
    "        )\n",
    "        self.conv2 = nn.Sequential(\n",
    "            nn.Conv2d(16, 16, kernel_size=3, stride=1, padding=1),\n",
    "            nn.ReLU(),\n",
    "            nn.MaxPool2d(kernel_size=2, stride=2)\n",
    "        )\n",
    "        self.conv3 = nn.Sequential(\n",
    "            nn.Conv2d(16, 16, kernel_size=3, stride=1, padding=1),\n",
    "            nn.ReLU(),\n",
    "            nn.MaxPool2d(kernel_size=2, stride=2)\n",
    "        )\n",
    "        self.fc = nn.Sequential(\n",
    "            nn.Linear( 16*3*3, 256),\n",
    "            nn.ReLU(),\n",
    "            nn.Linear(256, 256),\n",
    "            nn.ReLU(),\n",
    "            nn.Linear(256, 128),\n",
    "            nn.ReLU(),\n",
    "            nn.Linear(128, 10),\n",
    "       \n",
    "        )\n",
    "        \n",
    "    def forward(self, x):\n",
    "        out = self.conv1(x)\n",
    "        out = self.conv2(out)\n",
    "        out = self.conv3(out)\n",
    "        out = out.view(out.shape[0],-1)\n",
    "        out = self.fc(out)\n",
    "        return out\n",
    "\n",
    "model = MNIST_CNN().to(device)\n",
    "print(model)"
   ]
  },
  {
   "cell_type": "code",
   "execution_count": 28,
   "id": "06925e6b-11d9-47e7-9168-d6052b4774b6",
   "metadata": {},
   "outputs": [],
   "source": [
    "def loss_batch(model, loss_func, x_batch, y_batch, optimizer=None):\n",
    "    \n",
    "    x_batch, y_batch = x_batch.to(device), y_batch.to(device)\n",
    "    \n",
    "    loss = loss_func(model(x_batch), y_batch.squeeze())\n",
    "    \n",
    "    if optimizer is not None:\n",
    "        loss.backward()\n",
    "        optimizer.step()\n",
    "        optimizer.zero_grad()\n",
    "        \n",
    "    return loss.item(), len(x_batch)\n",
    "\n",
    "\n",
    "def accuracy_batch(model, x_batch, y_batch):\n",
    "    \n",
    "    x_batch, y_batch = x_batch.to(device), y_batch.to(device)\n",
    "    pred = model(x_batch)\n",
    "    \n",
    "    correct = (pred.argmax(1) == y_batch).type(torch.float).sum().item()\n",
    "    \n",
    "    correct /= len(x_batch)\n",
    "    return correct* 100"
   ]
  },
  {
   "cell_type": "code",
   "execution_count": 29,
   "id": "9f98f017-a7e6-4f85-9d06-ba135491b82c",
   "metadata": {},
   "outputs": [],
   "source": [
    "def fit(epochs, model, loss_func, optimizer, train_dl, valid_dl):\n",
    "    for epoch in range(epochs):\n",
    "        model.train()\n",
    "        for x_batch, y_batch in train_dl:\n",
    "            \n",
    "            loss_batch(model, loss_func, x_batch, y_batch, optimizer)\n",
    "            \n",
    "        \n",
    "        model.eval()\n",
    "        with torch.no_grad():\n",
    "            losses, nums = zip(   #The zip() function takes iterables (can be zero or more), aggregates them in a tuple, and returns it.\n",
    "                *[loss_batch(model, loss_func, x_valid_batch, y_valid_batch) for x_valid_batch, y_valid_batch in valid_dl]\n",
    "            )\n",
    "            val_loss = np.sum(np.multiply(losses, nums)) / np.sum(nums)\n",
    "            \n",
    "            total_accuracy = [accuracy_batch(model, x_valid_batch, y_valid_batch) for x_valid_batch, y_valid_batch in valid_dl]\n",
    "            \n",
    "            total_accuracy = sum(total_accuracy) / len(total_accuracy)\n",
    "            \n",
    "            print(\"Epoch: \",  epoch,\"\\nValidation Loss: \", val_loss)\n",
    "            print(f'Validation accuracy: {(total_accuracy):>0.1f}% ')\n",
    "            print(\"********************************************\\n\")\n",
    "            \n",
    "            \n",
    "            \n",
    "        "
   ]
  },
  {
   "cell_type": "code",
   "execution_count": 30,
   "id": "f7247ed0-6c80-45a8-8561-8cead92ab94a",
   "metadata": {},
   "outputs": [
    {
     "name": "stdout",
     "output_type": "stream",
     "text": [
      "Epoch:  0 \n",
      "Validation Loss:  0.8914777858734131\n",
      "Validation accuracy: 68.3% \n",
      "********************************************\n",
      "\n",
      "Epoch:  1 \n",
      "Validation Loss:  0.11016499358266592\n",
      "Validation accuracy: 96.7% \n",
      "********************************************\n",
      "\n",
      "Epoch:  2 \n",
      "Validation Loss:  0.09112886357307434\n",
      "Validation accuracy: 97.2% \n",
      "********************************************\n",
      "\n",
      "Epoch:  3 \n",
      "Validation Loss:  0.0540321261100471\n",
      "Validation accuracy: 98.5% \n",
      "********************************************\n",
      "\n",
      "Epoch:  4 \n",
      "Validation Loss:  0.05381052321754396\n",
      "Validation accuracy: 98.6% \n",
      "********************************************\n",
      "\n",
      "Epoch:  5 \n",
      "Validation Loss:  0.04773652278371155\n",
      "Validation accuracy: 98.6% \n",
      "********************************************\n",
      "\n",
      "Epoch:  6 \n",
      "Validation Loss:  0.051260424281656745\n",
      "Validation accuracy: 98.6% \n",
      "********************************************\n",
      "\n",
      "Epoch:  7 \n",
      "Validation Loss:  0.049056396538298574\n",
      "Validation accuracy: 98.5% \n",
      "********************************************\n",
      "\n",
      "Epoch:  8 \n",
      "Validation Loss:  0.04715963458162732\n",
      "Validation accuracy: 98.5% \n",
      "********************************************\n",
      "\n",
      "Epoch:  9 \n",
      "Validation Loss:  0.038267404071893545\n",
      "Validation accuracy: 99.0% \n",
      "********************************************\n",
      "\n"
     ]
    }
   ],
   "source": [
    "loss_func = nn.CrossEntropyLoss()\n",
    "optimizer = torch.optim.SGD(model.parameters(), lr=0.01, momentum=0.9)\n",
    "epochs = 10\n",
    "\n",
    "fit(epochs, model, loss_func, optimizer, train_dl, valid_dl )"
   ]
  },
  {
   "cell_type": "markdown",
   "id": "2a7ea81f-e9cb-4ce8-b446-cbdc3d00afd4",
   "metadata": {},
   "source": [
    "### testing"
   ]
  },
  {
   "cell_type": "code",
   "execution_count": 57,
   "id": "cbc64696-de82-43f4-ae4d-beb4ce5e6954",
   "metadata": {},
   "outputs": [
    {
     "name": "stdout",
     "output_type": "stream",
     "text": [
      "Model Prediction:  1\n"
     ]
    },
    {
     "data": {
      "text/plain": [
       "<matplotlib.image.AxesImage at 0x192add99640>"
      ]
     },
     "execution_count": 57,
     "metadata": {},
     "output_type": "execute_result"
    },
    {
     "data": {
      "image/png": "[encoded data removed]",
      "text/plain": [
       "<Figure size 640x480 with 1 Axes>"
      ]
     },
     "metadata": {},
     "output_type": "display_data"
    }
   ],
   "source": [
    "index = random.randint(0, len(x_valid))\n",
    "sample = np.array(x_valid[index]).reshape(1, 1, 28, 28)\n",
    "sample = torch.Tensor(sample)\n",
    "sample = sample.to(device)\n",
    "\n",
    "model.eval()\n",
    "with torch.no_grad():\n",
    "    pred = model(sample)\n",
    "    print(\"Model Prediction: \", pred.argmax(1).item())\n",
    "\n",
    "\n",
    "pyplot.title(\"Actual Number:\")\n",
    "pyplot.imshow(x_valid[index].reshape((28,28)), cmap=\"gray\")"
   ]
  },
  {
   "cell_type": "code",
   "execution_count": null,
   "id": "27023768-9e47-4e0a-a51c-9d1904cd48b0",
   "metadata": {},
   "outputs": [],
   "source": [
    "\n",
    "\n"
   ]
  },
  {
   "cell_type": "code",
   "execution_count": null,
   "id": "946b1809-e50d-455c-b6f6-520d4336d2f6",
   "metadata": {},
   "outputs": [],
   "source": []
  }
 ],
 "metadata": {
  "kernelspec": {
   "display_name": "Python 3 (ipykernel)",
   "language": "python",
   "name": "python3"
  },
  "language_info": {
   "codemirror_mode": {
    "name": "ipython",
    "version": 3
   },
   "file_extension": ".py",
   "mimetype": "text/x-python",
   "name": "python",
   "nbconvert_exporter": "python",
   "pygments_lexer": "ipython3",
   "version": "3.9.13"
  }
 },
 "nbformat": 4,
 "nbformat_minor": 5
}
