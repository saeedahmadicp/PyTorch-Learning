{
 "cells": [
  {
   "cell_type": "markdown",
   "id": "5302f508-37f8-4912-b0e6-7a0974ae47b3",
   "metadata": {},
   "source": [
    "### Creating a Custom Dataset "
   ]
  },
  {
   "cell_type": "markdown",
   "id": "7e7d8955-a0a5-4d9e-b14a-19c9a2b4e872",
   "metadata": {},
   "source": [
    "We load the FashionMNIST Dataset with the following parameters: <br>\n",
    "- **root** is the path where the train/test data is stored,\n",
    "- **train** specifies training or test dataset,\n",
    "- **download=True** downloads the data from the internet if it’s not available at root.\n",
    "- **transform** and **target_transform** specify the feature and label transformations\n"
   ]
  },
  {
   "cell_type": "code",
   "execution_count": 1,
   "id": "d6da9599-cdd4-46a4-8de2-35735b29ac1c",
   "metadata": {},
   "outputs": [],
   "source": [
    "import torch\n",
    "from torch.utils.data import Dataset\n",
    "from torchvision import datasets\n",
    "from torchvision.transforms import ToTensor, Lambda\n",
    "import matplotlib.pyplot as plt"
   ]
  },
  {
   "cell_type": "code",
   "execution_count": 2,
   "id": "f490e1ea-c28f-494a-aaf1-31c88ba8a4b6",
   "metadata": {},
   "outputs": [],
   "source": [
    "#Download training data from open datasets\n",
    "training_data = datasets.FashionMNIST(\n",
    "    root=\"data\",\n",
    "    train=True,\n",
    "    download=False,\n",
    "    transform=ToTensor(),\n",
    ")\n",
    "\n",
    "#Download the test data from open datasets\n",
    "test_data = datasets.FashionMNIST(\n",
    "    root=\"data\",\n",
    "    train=False,\n",
    "    download=False,\n",
    ")"
   ]
  },
  {
   "cell_type": "markdown",
   "id": "d612286c-e527-4ae9-92a6-b3ab68ef4989",
   "metadata": {},
   "source": [
    "**Iterating and Visualizing the Dataset**"
   ]
  },
  {
   "cell_type": "code",
   "execution_count": 4,
   "id": "ab52c8dc-a165-4dd0-9276-24b33a74717c",
   "metadata": {},
   "outputs": [
    {
     "data": {
      "text/plain": [
       "'\\nfigure = plt.figure(figsize=(8,8))\\ncols, rows = 3,3\\nfor i in range(1, cols*rows+1):\\n    sample_idx = torch.randint(len(training_data), size=(1,)).item()\\n    img, label = training_data[sample_idx]\\n    figure.add_subplot(rows, cols, i)\\n    plt.title(labels_map[label])\\n    plt.axis(\"off\")\\n   # plt.imshow(img.squeeze(), cmap=\"gray\")\\nplt.show()\\n'"
      ]
     },
     "execution_count": 4,
     "metadata": {},
     "output_type": "execute_result"
    }
   ],
   "source": [
    "labels_map = {\n",
    "    0: \"T-shirt/top\",\n",
    "    1: \"Trouser\",\n",
    "    2: \"Pullover\",\n",
    "    3: \"Dress\",\n",
    "    4: \"Coat\",\n",
    "    5: \"Sandal\",\n",
    "    6: \"Shirt\",\n",
    "    7: \"Sneaker\",\n",
    "    8: \"Bag\",\n",
    "    9: \"Ankle boot\",\n",
    "}\n",
    "\n",
    "\"\"\"\n",
    "figure = plt.figure(figsize=(8,8))\n",
    "cols, rows = 3,3\n",
    "for i in range(1, cols*rows+1):\n",
    "    sample_idx = torch.randint(len(training_data), size=(1,)).item()\n",
    "    img, label = training_data[sample_idx]\n",
    "    figure.add_subplot(rows, cols, i)\n",
    "    plt.title(labels_map[label])\n",
    "    plt.axis(\"off\")\n",
    "   # plt.imshow(img.squeeze(), cmap=\"gray\")\n",
    "plt.show()\n",
    "\"\"\""
   ]
  },
  {
   "cell_type": "markdown",
   "id": "87e45204-6990-4d83-8fa2-7aec2090f781",
   "metadata": {},
   "source": [
    "### Creating a Custom Dataset for your files"
   ]
  },
  {
   "cell_type": "markdown",
   "id": "f7e56b82-42c6-42f8-9e1f-492e138b7c7b",
   "metadata": {},
   "source": [
    "A custom Dataset class must implement three functions, `__init__`, `__len__`, and `__getitem__`. "
   ]
  },
  {
   "cell_type": "code",
   "execution_count": null,
   "id": "df1cfd9e-53eb-41e7-ada8-1fb06240c303",
   "metadata": {},
   "outputs": [],
   "source": []
  }
 ],
 "metadata": {
  "kernelspec": {
   "display_name": "Python 3 (ipykernel)",
   "language": "python",
   "name": "python3"
  },
  "language_info": {
   "codemirror_mode": {
    "name": "ipython",
    "version": 3
   },
   "file_extension": ".py",
   "mimetype": "text/x-python",
   "name": "python",
   "nbconvert_exporter": "python",
   "pygments_lexer": "ipython3",
   "version": "3.9.13"
  }
 },
 "nbformat": 4,
 "nbformat_minor": 5
}
