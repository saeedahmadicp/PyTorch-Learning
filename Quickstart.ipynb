{
 "cells": [
  {
   "cell_type": "markdown",
   "id": "59e92dbe-9103-4fde-9f2e-852f1f66de08",
   "metadata": {},
   "source": [
    "**PyTorch has two primitives to work with data: `torch.utils.data.DataLoader` and `torch.utils.data.Dataset` <br> Dataset stores the samples and their corresponding labels, and DataLoader wraps an iterable around the Dataset**"
   ]
  },
  {
   "cell_type": "code",
   "execution_count": 1,
   "id": "dd8ee0bc-f2d6-4d46-a161-cbbb1e232f54",
   "metadata": {},
   "outputs": [],
   "source": [
    "import torch\n",
    "from torch import nn\n",
    "from torch.utils.data import DataLoader\n",
    "from torchvision import datasets\n",
    "from torchvision.transforms import ToTensor, Lambda, Compose\n",
    "import matplotlib.pyplot as plt"
   ]
  },
  {
   "cell_type": "code",
   "execution_count": 2,
   "id": "64d5978c-6341-4f8f-bbf7-e8b2ba95654c",
   "metadata": {},
   "outputs": [],
   "source": [
    "#Download training data from open datasets\n",
    "training_data = datasets.FashionMNIST(\n",
    "    root=\"data\",\n",
    "    train=True,\n",
    "    download=True,\n",
    "    transform=ToTensor(),\n",
    ")\n",
    "\n",
    "#Download the test data from open datasets\n",
    "test_data = datasets.FashionMNIST(\n",
    "    root=\"data\",\n",
    "    train=False,\n",
    "    download=True,\n",
    "    transform=ToTensor(),\n",
    ")"
   ]
  },
  {
   "cell_type": "markdown",
   "id": "43cead09-baa0-4387-9149-77eeed314433",
   "metadata": {},
   "source": [
    "- **We pass the dataset as an argument to dataloader**\n",
    "- **This wraps an iterable over our dataset, and supports automatic batching, sampling, shuffling and multiprocess data loading**\n",
    "- **Here we define a batch size of 64, i.e. each element in the dataloader iterable will return a batch of 64 features and labels**"
   ]
  },
  {
   "cell_type": "code",
   "execution_count": 3,
   "id": "67681610-4d3d-4c75-be11-0b7b84679ed7",
   "metadata": {},
   "outputs": [
    {
     "name": "stdout",
     "output_type": "stream",
     "text": [
      "Shape of X [N, C, H, W]:  torch.Size([64, 1, 28, 28])\n",
      "shape of y:  torch.Size([64]) torch.int64\n"
     ]
    }
   ],
   "source": [
    "batch_size = 64\n",
    "\n",
    "#Create data loaders\n",
    "train_dataloader = DataLoader(training_data, batch_size=batch_size)\n",
    "test_dataloader = DataLoader(test_data, batch_size=batch_size)\n",
    "\n",
    "for X, y in test_dataloader:\n",
    "    print(\"Shape of X [N, C, H, W]: \", X.shape)\n",
    "    print(\"shape of y: \", y.shape, y.dtype)\n",
    "    break\n"
   ]
  },
  {
   "cell_type": "markdown",
   "id": "e1f2a52a-0665-44b6-bf3b-1a759264fc6e",
   "metadata": {},
   "source": [
    "- **To define a neural network in PyTorch, we create a class that inherits from `nn.Module`.**\n",
    "- **We define the layers of the network in the `__init__` function and specify how data will pass through the network in the `forward` function.**\n",
    "- **To accelerate operations in the neural network, we move it tothte GPU if available.**"
   ]
  },
  {
   "cell_type": "code",
   "execution_count": 4,
   "id": "751adce2-9b84-4779-9af6-e058ee69363e",
   "metadata": {},
   "outputs": [
    {
     "name": "stdout",
     "output_type": "stream",
     "text": [
      "Using cuda device\n",
      "NeuralNetwork(\n",
      "  (flatten): Flatten(start_dim=1, end_dim=-1)\n",
      "  (linear_relu_stack): Sequential(\n",
      "    (0): Linear(in_features=784, out_features=512, bias=True)\n",
      "    (1): ReLU()\n",
      "    (2): Linear(in_features=512, out_features=512, bias=True)\n",
      "    (3): ReLU()\n",
      "    (4): Linear(in_features=512, out_features=10, bias=True)\n",
      "    (5): ReLU()\n",
      "  )\n",
      ")\n"
     ]
    }
   ],
   "source": [
    "#Get cpu or gpu device for training\n",
    "device = \"cuda\" if torch.cuda.is_available() else \"cpu\"\n",
    "print(\"Using {} device\".format(device))\n",
    "\n",
    "#Define model\n",
    "class NeuralNetwork(nn.Module):\n",
    "    def __init__(self):\n",
    "        super(NeuralNetwork, self).__init__()\n",
    "        self.flatten = nn.Flatten()\n",
    "        self.linear_relu_stack = nn.Sequential(\n",
    "            nn.Linear(28*28, 512),\n",
    "            nn.ReLU(),\n",
    "            nn.Linear(512, 512),\n",
    "            nn.ReLU(),\n",
    "            nn.Linear(512, 10),\n",
    "            nn.ReLU()\n",
    "        )\n",
    "\n",
    "    def forward(self, x):\n",
    "        x = self.flatten(x)\n",
    "        logits = self.linear_relu_stack(x)\n",
    "        return logits\n",
    "\n",
    "model = NeuralNetwork().to(device)\n",
    "print(model)\n"
   ]
  },
  {
   "cell_type": "markdown",
   "id": "52e40386-6f24-4b6a-9e70-f922eac9673b",
   "metadata": {},
   "source": [
    "**To train a model, we need a loss function and an optimizer.**"
   ]
  },
  {
   "cell_type": "code",
   "execution_count": 5,
   "id": "58a151db-048f-4135-82d8-1cabe4664200",
   "metadata": {},
   "outputs": [],
   "source": [
    "loss_fn = nn.CrossEntropyLoss()\n",
    "optimizer = torch.optim.SGD(model.parameters(), lr=1e-3)"
   ]
  },
  {
   "cell_type": "markdown",
   "id": "3466e092-84ce-4ec8-905d-9aa50f390345",
   "metadata": {},
   "source": [
    "**In a single training loop, the model makes predictions on the training dataset (fet to it in batches), and <br>\n",
    "backpropagates the prediction error to adjust the model's parameters.**"
   ]
  },
  {
   "cell_type": "code",
   "execution_count": 6,
   "id": "bad248bb-e5b6-4748-a592-6adc29dac39f",
   "metadata": {},
   "outputs": [],
   "source": [
    "def train(dataloader, model, loss_fn, optimizer):\n",
    "    size = len(dataloader.dataset)\n",
    "    for batch, (X, y) in enumerate(dataloader):\n",
    "        X, y = X.to(device), y.to(device)\n",
    "        \n",
    "        #compute the prediction error\n",
    "        pred = model(X)\n",
    "        loss = loss_fn(pred, y)\n",
    "        \n",
    "        \n",
    "        #Backpropagtion\n",
    "        optimizer.zero_grad()\n",
    "        loss.backward()\n",
    "        optimizer.step()\n",
    "        \n",
    "        if batch % 100 == 0:\n",
    "            loss, current = loss.item(), batch * len(X)\n",
    "            print(f\"loss: {loss:>7f} [{current:>5d}/{size:>5d}]\")\n",
    "            "
   ]
  },
  {
   "cell_type": "markdown",
   "id": "227a973c-bb7b-4dea-8dcd-7297508cfb85",
   "metadata": {},
   "source": [
    "**We also check the model's performance against the test dataset to ensure it is learning**"
   ]
  },
  {
   "cell_type": "code",
   "execution_count": 7,
   "id": "61117e26-9db8-448d-a04f-8e2eeb83a1dc",
   "metadata": {},
   "outputs": [],
   "source": [
    "def test(dataloader, model):\n",
    "    size = len(dataloader.dataset)\n",
    "    model.eval()\n",
    "    test_loss, correct = 0, 0\n",
    "    with torch.no_grad():\n",
    "        for X, y in dataloader:\n",
    "            X, y = X.to(device), y.to(device)\n",
    "            pred = model(X)\n",
    "            test_loss += loss_fn(pred, y).item()\n",
    "            correct += (pred.argmax(1) == y).type(torch.float).sum().item()\n",
    "        test_loss /= size\n",
    "        correct /= size\n",
    "        print(f\"Test Error: \\n Accuracy: {(100*correct):>0.1f}%, Avg loss: {test_loss:>8f} \\n\")"
   ]
  },
  {
   "cell_type": "code",
   "execution_count": 8,
   "id": "6888779d-770c-4168-8157-31e102642fb9",
   "metadata": {},
   "outputs": [
    {
     "name": "stdout",
     "output_type": "stream",
     "text": [
      "Epoch 1\n",
      " -------------------------------\n",
      "loss: 2.310527 [    0/60000]\n",
      "loss: 2.301631 [ 6400/60000]\n",
      "loss: 2.295037 [12800/60000]\n",
      "loss: 2.281919 [19200/60000]\n",
      "loss: 2.285928 [25600/60000]\n",
      "loss: 2.278539 [32000/60000]\n",
      "loss: 2.268762 [38400/60000]\n",
      "loss: 2.266127 [44800/60000]\n",
      "loss: 2.257108 [51200/60000]\n",
      "loss: 2.223056 [57600/60000]\n",
      "Test Error: \n",
      " Accuracy: 36.4%, Avg loss: 0.035175 \n",
      "\n",
      "Epoch 2\n",
      " -------------------------------\n",
      "loss: 2.270846 [    0/60000]\n",
      "loss: 2.269924 [ 6400/60000]\n",
      "loss: 2.242002 [12800/60000]\n",
      "loss: 2.208688 [19200/60000]\n",
      "loss: 2.231226 [25600/60000]\n",
      "loss: 2.211872 [32000/60000]\n",
      "loss: 2.196250 [38400/60000]\n",
      "loss: 2.196488 [44800/60000]\n",
      "loss: 2.185584 [51200/60000]\n",
      "loss: 2.112997 [57600/60000]\n",
      "Test Error: \n",
      " Accuracy: 39.9%, Avg loss: 0.033837 \n",
      "\n",
      "Epoch 3\n",
      " -------------------------------\n",
      "loss: 2.223381 [    0/60000]\n",
      "loss: 2.225564 [ 6400/60000]\n",
      "loss: 2.171210 [12800/60000]\n",
      "loss: 2.097565 [19200/60000]\n",
      "loss: 2.148627 [25600/60000]\n",
      "loss: 2.125655 [32000/60000]\n",
      "loss: 2.085467 [38400/60000]\n",
      "loss: 2.099815 [44800/60000]\n",
      "loss: 2.084292 [51200/60000]\n",
      "loss: 1.953865 [57600/60000]\n",
      "Test Error: \n",
      " Accuracy: 41.2%, Avg loss: 0.031972 \n",
      "\n",
      "Epoch 4\n",
      " -------------------------------\n",
      "loss: 2.163233 [    0/60000]\n",
      "loss: 2.163985 [ 6400/60000]\n",
      "loss: 2.081568 [12800/60000]\n",
      "loss: 1.947902 [19200/60000]\n",
      "loss: 2.043255 [25600/60000]\n",
      "loss: 2.026067 [32000/60000]\n",
      "loss: 1.950138 [38400/60000]\n",
      "loss: 1.992524 [44800/60000]\n",
      "loss: 1.972142 [51200/60000]\n",
      "loss: 1.784588 [57600/60000]\n",
      "Test Error: \n",
      " Accuracy: 42.1%, Avg loss: 0.030033 \n",
      "\n",
      "Epoch 5\n",
      " -------------------------------\n",
      "loss: 2.098606 [    0/60000]\n",
      "loss: 2.093804 [ 6400/60000]\n",
      "loss: 1.992254 [12800/60000]\n",
      "loss: 1.806756 [19200/60000]\n",
      "loss: 1.937771 [25600/60000]\n",
      "loss: 1.935059 [32000/60000]\n",
      "loss: 1.830434 [38400/60000]\n",
      "loss: 1.902951 [44800/60000]\n",
      "loss: 1.871316 [51200/60000]\n",
      "loss: 1.653538 [57600/60000]\n",
      "Test Error: \n",
      " Accuracy: 43.4%, Avg loss: 0.028411 \n",
      "\n",
      "Done\n"
     ]
    }
   ],
   "source": [
    "epochs = 5\n",
    "for t in range(epochs):\n",
    "    print(f\"Epoch {t+1}\\n -------------------------------\")\n",
    "    train(train_dataloader, model, loss_fn, optimizer)\n",
    "    test(test_dataloader, model)\n",
    "print(\"Done\")"
   ]
  },
  {
   "cell_type": "markdown",
   "id": "960cb058-fa19-4bd4-8728-77f73e787a16",
   "metadata": {},
   "source": [
    "**A common way to save a model is to serialize the internaal state dictionary (containing the model paaramters)**"
   ]
  },
  {
   "cell_type": "code",
   "execution_count": 9,
   "id": "46145799-a732-416a-93cc-60d586a2bb83",
   "metadata": {},
   "outputs": [
    {
     "name": "stdout",
     "output_type": "stream",
     "text": [
      "Saved PyTorch Model State to model.pth\n"
     ]
    }
   ],
   "source": [
    "torch.save(model.state_dict(), \"model.pth\")\n",
    "print(\"Saved PyTorch Model State to model.pth\")"
   ]
  },
  {
   "cell_type": "markdown",
   "id": "d4be2969-5313-4c29-a024-c3d5b6d363d7",
   "metadata": {},
   "source": [
    "**The process for loading a model includes re-creating the model structure and loading the state dictionary into it**"
   ]
  },
  {
   "cell_type": "code",
   "execution_count": 10,
   "id": "2d410bbd-30a0-42fa-9185-24caf90f3c29",
   "metadata": {},
   "outputs": [
    {
     "data": {
      "text/plain": [
       "<All keys matched successfully>"
      ]
     },
     "execution_count": 10,
     "metadata": {},
     "output_type": "execute_result"
    }
   ],
   "source": [
    "model = NeuralNetwork()\n",
    "model.load_state_dict(torch.load(\"model.pth\"))"
   ]
  },
  {
   "cell_type": "markdown",
   "id": "d3962e55-6c3d-48a7-bcc3-7af84e778db3",
   "metadata": {},
   "source": [
    "**This model can now be used to make predictions**"
   ]
  },
  {
   "cell_type": "code",
   "execution_count": 11,
   "id": "7a8874c0-42ea-4cb9-9ea9-4dc24c715c92",
   "metadata": {},
   "outputs": [
    {
     "name": "stdout",
     "output_type": "stream",
     "text": [
      "Predicted: \"Sneaker\", Actual: \"Ankle boot\"\n"
     ]
    }
   ],
   "source": [
    "classes = [\n",
    "    \"T-shirt/top\",\n",
    "    \"Trouser\",\n",
    "    \"Pullover\",\n",
    "    \"Dress\",\n",
    "    \"Coat\",\n",
    "    \"Sandal\",\n",
    "    \"Shirt\",\n",
    "    \"Sneaker\",\n",
    "    \"Bag\",\n",
    "    \"Ankle boot\",\n",
    "]\n",
    "\n",
    "model.eval()\n",
    "x, y = test_data[0][0], test_data[0][1]\n",
    "with torch.no_grad():\n",
    "    pred = model(x)\n",
    "    predicted, actual = classes[pred[0].argmax(0)], classes[y]\n",
    "    print(f'Predicted: \"{predicted}\", Actual: \"{actual}\"')"
   ]
  },
  {
   "cell_type": "code",
   "execution_count": null,
   "id": "2532237e-a0ea-4079-97c4-9e42552d3be3",
   "metadata": {},
   "outputs": [],
   "source": []
  }
 ],
 "metadata": {
  "kernelspec": {
   "display_name": "Python 3 (ipykernel)",
   "language": "python",
   "name": "python3"
  },
  "language_info": {
   "codemirror_mode": {
    "name": "ipython",
    "version": 3
   },
   "file_extension": ".py",
   "mimetype": "text/x-python",
   "name": "python",
   "nbconvert_exporter": "python",
   "pygments_lexer": "ipython3",
   "version": "3.9.13"
  }
 },
 "nbformat": 4,
 "nbformat_minor": 5
}
