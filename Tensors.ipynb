{
 "cells": [
  {
   "cell_type": "markdown",
   "id": "463d93d4-ff2e-465f-b5d4-47ffeab1b944",
   "metadata": {},
   "source": [
    "## Tensors"
   ]
  },
  {
   "cell_type": "markdown",
   "id": "3bcb608c-c89d-41cf-ae10-84ab50899804",
   "metadata": {},
   "source": [
    "- **Tensors are a specialized data structure that are very similar to arrays and matices**\n",
    "- **In PyTorch, we use tensors to encode the inputs and outputs of a model, as well the model's parameters**\n",
    "- **Tensors are similar to NumPy's ndarrays, except that tensors can run on GPUs or other hardware accelerators**\n",
    "- **Tensors are also optimized for automatic differentiation**\n"
   ]
  },
  {
   "cell_type": "code",
   "execution_count": 2,
   "id": "24613d5b-afd2-4005-8a02-2a1eb355e3e3",
   "metadata": {},
   "outputs": [],
   "source": [
    "import torch\n",
    "import numpy as np"
   ]
  },
  {
   "cell_type": "markdown",
   "id": "14437d61-0405-4f25-a9f1-abbb3a37fe9a",
   "metadata": {
    "tags": []
   },
   "source": [
    "### Initializing a Tensor"
   ]
  },
  {
   "cell_type": "markdown",
   "id": "66e28b6a-c963-465b-8e43-0f3ad85f9675",
   "metadata": {},
   "source": [
    "**Directly from data** <br >\n",
    "Tensors can be created directly from data. The data type is automatically inferred."
   ]
  },
  {
   "cell_type": "code",
   "execution_count": 3,
   "id": "577a37c3-3b41-4a3a-a2d6-5c49937057f7",
   "metadata": {},
   "outputs": [
    {
     "data": {
      "text/plain": [
       "tensor([[1, 2],\n",
       "        [3, 4]])"
      ]
     },
     "execution_count": 3,
     "metadata": {},
     "output_type": "execute_result"
    }
   ],
   "source": [
    "data = [[1,2], [3,4]]\n",
    "x_data = torch.tensor(data)\n",
    "x_data"
   ]
  },
  {
   "cell_type": "markdown",
   "id": "2c404cd1-a351-441f-96dc-12846033ec4a",
   "metadata": {},
   "source": [
    "**From a NumPy array** <br>\n",
    "Tensors can be created from NumPy arrays and vice versa "
   ]
  },
  {
   "cell_type": "code",
   "execution_count": 4,
   "id": "02b5527d-3942-4f23-8333-238e831ff751",
   "metadata": {},
   "outputs": [
    {
     "data": {
      "text/plain": [
       "tensor([[1, 2],\n",
       "        [3, 4]], dtype=torch.int32)"
      ]
     },
     "execution_count": 4,
     "metadata": {},
     "output_type": "execute_result"
    }
   ],
   "source": [
    "\n",
    "np_array = np.array(data)\n",
    "x_np = torch.from_numpy(np_array)\n",
    "x_np"
   ]
  },
  {
   "cell_type": "markdown",
   "id": "7550f7b7-c6b0-4280-96ee-670d0510a007",
   "metadata": {},
   "source": [
    "**From another tensor:** <br>\n",
    "The new tensor retains the properties (shape, datatype) of the arguments tensor, unless explicitly overridden."
   ]
  },
  {
   "cell_type": "code",
   "execution_count": 5,
   "id": "52a314ee-bd0c-4fd2-902d-384707b92ceb",
   "metadata": {},
   "outputs": [
    {
     "name": "stdout",
     "output_type": "stream",
     "text": [
      "Ones Tensor: \n",
      " tensor([[1, 1],\n",
      "        [1, 1]]) \n",
      "\n",
      "Ones tensor  (data type modified): \n",
      " tensor([[1., 1.],\n",
      "        [1., 1.]]) \n",
      "\n"
     ]
    }
   ],
   "source": [
    "x_ones = torch.ones_like(x_data) #retains the properties of the x_data\n",
    "print(f\"Ones Tensor: \\n {x_ones} \\n\")\n",
    "\n",
    "x_ones_modified =torch.ones_like(x_data, dtype=torch.float) #overrides the datatype of x_data\n",
    "print(f\"Ones tensor  (data type modified): \\n {x_ones_modified} \\n\") "
   ]
  },
  {
   "cell_type": "markdown",
   "id": "446bc790-621b-4132-8993-a85dc6e7f87b",
   "metadata": {},
   "source": [
    "**With random or constant values** <br>\n",
    "`shape` is a tuple of tensor dimesions. In the functions below, it determines the dimentionality of the output tensor."
   ]
  },
  {
   "cell_type": "code",
   "execution_count": 6,
   "id": "dbb0c671-10a1-437a-80fe-b98b74f93bf4",
   "metadata": {},
   "outputs": [
    {
     "name": "stdout",
     "output_type": "stream",
     "text": [
      "Random Tensors: \n",
      " tensor([[5.3254e-01, 8.5862e-01, 4.1683e-01],\n",
      "        [9.0053e-01, 8.5098e-04, 3.2986e-01]]) \n",
      "\n",
      "Ones Tensors: \n",
      " tensor([[1., 1., 1.],\n",
      "        [1., 1., 1.]]) \n",
      "\n",
      "Zeros Tensors: \n",
      " tensor([[0., 0., 0.],\n",
      "        [0., 0., 0.]]) \n",
      "\n"
     ]
    }
   ],
   "source": [
    "shape = (2, 3)\n",
    "rand_tensor = torch.rand(shape)\n",
    "ones_tensor = torch.ones(shape)\n",
    "zeros_tensor = torch.zeros(shape)\n",
    "\n",
    "print(f\"Random Tensors: \\n {rand_tensor} \\n\")\n",
    "print(f\"Ones Tensors: \\n {ones_tensor} \\n\")\n",
    "print(f\"Zeros Tensors: \\n {zeros_tensor } \\n\")"
   ]
  },
  {
   "cell_type": "markdown",
   "id": "36a0eaee-daf8-4bd0-826b-cdbce8a59581",
   "metadata": {},
   "source": [
    "### Attributes of a Tensor"
   ]
  },
  {
   "cell_type": "markdown",
   "id": "42195dae-8755-4880-856d-84d2408c2bf8",
   "metadata": {},
   "source": [
    "**Tensor attributes describe their shape, datatype, and the device on which they are stored**"
   ]
  },
  {
   "cell_type": "code",
   "execution_count": 11,
   "id": "a4bdf32d-9a8d-4df4-b505-4153dab90c39",
   "metadata": {},
   "outputs": [
    {
     "name": "stdout",
     "output_type": "stream",
     "text": [
      "Shape of the tensor:  torch.Size([4, 5]) \n",
      "\n",
      "Datatype of the tensor:  torch.float32 \n",
      "\n",
      "Device of the tensor:  cpu \n",
      "\n"
     ]
    }
   ],
   "source": [
    "tensor = torch.ones(4,5)\n",
    "\n",
    "print(f\"Shape of the tensor:  {tensor.shape} \\n\")\n",
    "print(f\"Datatype of the tensor:  {tensor.dtype} \\n\")\n",
    "print(f\"Device of the tensor:  {tensor.device} \\n\")"
   ]
  },
  {
   "cell_type": "markdown",
   "id": "284d1a6f-acb3-43dd-befb-2528031e4655",
   "metadata": {},
   "source": [
    "### Operations on Tensors"
   ]
  },
  {
   "cell_type": "markdown",
   "id": "1d3811d0-7a27-4238-8fbe-67aa9a7034a7",
   "metadata": {},
   "source": [
    "**By default, tensors are created on the CPU. We need to explicilty move tensors to the GPU using `.to` method (after checking for GPU avalability). <br>\n",
    "Keep in mind that copying large tensors across devices can be expensive in term of time and memory**"
   ]
  },
  {
   "cell_type": "code",
   "execution_count": 13,
   "id": "62d09401-805c-4b6c-a839-ed5569e20bd9",
   "metadata": {},
   "outputs": [
    {
     "name": "stdout",
     "output_type": "stream",
     "text": [
      "Device of the tensor: cuda:0 \n",
      "\n"
     ]
    }
   ],
   "source": [
    "#We move our tensor to the GPU if available\n",
    "if torch.cuda.is_available():\n",
    "    tensor = tensor.to('cuda')\n",
    "\n",
    "print(f\"Device of the tensor: {tensor.device} \\n\") "
   ]
  },
  {
   "cell_type": "markdown",
   "id": "6f915845-6e02-4b5c-8503-7ccfc9d8f376",
   "metadata": {},
   "source": [
    "**Standard numpy-like indexing and slicing**"
   ]
  },
  {
   "cell_type": "code",
   "execution_count": 16,
   "id": "f733ad39-b870-4a29-9f80-932fa5997072",
   "metadata": {},
   "outputs": [
    {
     "data": {
      "text/plain": [
       "tensor([[1., 1., 1., 0.],\n",
       "        [1., 1., 1., 0.],\n",
       "        [1., 1., 1., 0.],\n",
       "        [1., 1., 1., 0.]])"
      ]
     },
     "execution_count": 16,
     "metadata": {},
     "output_type": "execute_result"
    }
   ],
   "source": [
    "tensor = torch.ones(4,4)\n",
    "tensor[:, -1] = 0\n",
    "tensor"
   ]
  },
  {
   "cell_type": "markdown",
   "id": "ba4a48b9-91a5-47ce-9c2b-f56e3ade3134",
   "metadata": {},
   "source": [
    "**Joining tensors:** You can use `torch.cat` to concatenate a squence of tensors along a given dimensions."
   ]
  },
  {
   "cell_type": "code",
   "execution_count": 17,
   "id": "38c38b4e-6850-402d-9753-4c408558db87",
   "metadata": {},
   "outputs": [
    {
     "data": {
      "text/plain": [
       "tensor([[1., 1., 1., 0., 1., 1., 1., 0., 1., 1., 1., 0.],\n",
       "        [1., 1., 1., 0., 1., 1., 1., 0., 1., 1., 1., 0.],\n",
       "        [1., 1., 1., 0., 1., 1., 1., 0., 1., 1., 1., 0.],\n",
       "        [1., 1., 1., 0., 1., 1., 1., 0., 1., 1., 1., 0.]])"
      ]
     },
     "execution_count": 17,
     "metadata": {},
     "output_type": "execute_result"
    }
   ],
   "source": [
    "t1 = torch.cat([tensor, tensor, tensor], dim=1)\n",
    "t1"
   ]
  },
  {
   "cell_type": "code",
   "execution_count": 18,
   "id": "8365a414-f324-440d-8bc8-1061215fef34",
   "metadata": {},
   "outputs": [
    {
     "data": {
      "text/plain": [
       "tensor([[1., 1., 1., 0.],\n",
       "        [1., 1., 1., 0.],\n",
       "        [1., 1., 1., 0.],\n",
       "        [1., 1., 1., 0.],\n",
       "        [1., 1., 1., 0.],\n",
       "        [1., 1., 1., 0.],\n",
       "        [1., 1., 1., 0.],\n",
       "        [1., 1., 1., 0.],\n",
       "        [1., 1., 1., 0.],\n",
       "        [1., 1., 1., 0.],\n",
       "        [1., 1., 1., 0.],\n",
       "        [1., 1., 1., 0.]])"
      ]
     },
     "execution_count": 18,
     "metadata": {},
     "output_type": "execute_result"
    }
   ],
   "source": [
    "t1 = torch.cat([tensor, tensor, tensor], dim=0)\n",
    "t1"
   ]
  },
  {
   "cell_type": "markdown",
   "id": "efb376d0-53c8-4e21-a953-41b9dcb91dc4",
   "metadata": {},
   "source": [
    "**Arithmetic Operations**"
   ]
  },
  {
   "cell_type": "code",
   "execution_count": 25,
   "id": "d1246aae-73e4-4c3d-8edb-ed15cb5e7a37",
   "metadata": {},
   "outputs": [
    {
     "data": {
      "text/plain": [
       "tensor([[1., 1., 1., 0.],\n",
       "        [1., 1., 1., 0.],\n",
       "        [1., 1., 1., 0.],\n",
       "        [1., 1., 1., 0.]])"
      ]
     },
     "execution_count": 25,
     "metadata": {},
     "output_type": "execute_result"
    }
   ],
   "source": [
    "# This computes the matrix multiplication between two tensors. \n",
    "\n",
    "y1 = tensor @ tensor.T\n",
    "y2 = tensor.matmul(tensor.T)\n",
    "\n",
    "y3 = torch.rand_like(tensor)\n",
    "torch.matmul(tensor, tensor.T, out=y3)\n",
    "\n",
    "\n",
    "# This compute the element-wise product\n",
    "z1 = tensor * tensor\n",
    "z2 = tensor.mul(tensor)\n",
    "z3 = torch.rand_like(tensor)\n",
    "torch.mul(tensor, tensor, out=z3)"
   ]
  },
  {
   "cell_type": "markdown",
   "id": "b0598ec1-d3b0-46be-a67e-5f8ed4ee112c",
   "metadata": {},
   "source": [
    "**Single-element tensors** If you have a one-element tensor, for example by aggregating all values of a tensor into one value, you can convert it to a Python numerical value using `item()`"
   ]
  },
  {
   "cell_type": "code",
   "execution_count": 26,
   "id": "d4abfe66-850f-4986-9d47-7647ea710435",
   "metadata": {},
   "outputs": [
    {
     "data": {
      "text/plain": [
       "12.0"
      ]
     },
     "execution_count": 26,
     "metadata": {},
     "output_type": "execute_result"
    }
   ],
   "source": [
    "agg = tensor.sum()\n",
    "agg_item = agg.item()\n",
    "agg_item"
   ]
  },
  {
   "cell_type": "markdown",
   "id": "0264e844-cba0-4fbd-a653-bd57d234fe9f",
   "metadata": {},
   "source": [
    "**In-place Operations** Operations that store the result into the operand are called in-place. They are denoted by a `_` suffix. For example `x.copy_(y)`, `x.t_()`, will change `x`."
   ]
  },
  {
   "cell_type": "code",
   "execution_count": 45,
   "id": "ab98a40e-ed4e-4d2e-9033-801c02b7236f",
   "metadata": {},
   "outputs": [
    {
     "name": "stdout",
     "output_type": "stream",
     "text": [
      "x: \n",
      " tensor([[1., 1., 1., 1.],\n",
      "        [1., 1., 1., 1.],\n",
      "        [1., 1., 1., 1.],\n",
      "        [1., 1., 1., 1.]]) \n",
      "tensor: \n",
      " tensor([[1., 1., 1., 1.],\n",
      "        [1., 1., 1., 1.],\n",
      "        [1., 1., 1., 1.],\n",
      "        [1., 1., 1., 1.]]) \n",
      "\n",
      "x: \n",
      " tensor([[6., 6., 6., 6.],\n",
      "        [6., 6., 6., 6.],\n",
      "        [6., 6., 6., 6.],\n",
      "        [6., 6., 6., 6.]]) \n",
      "tensor: \n",
      " tensor([[6., 6., 6., 6.],\n",
      "        [6., 6., 6., 6.],\n",
      "        [6., 6., 6., 6.],\n",
      "        [6., 6., 6., 6.]]) \n",
      "\n"
     ]
    }
   ],
   "source": [
    "x = torch.ones_like(tensor)\n",
    "tensor = x.t_()\n",
    "print(f\"x: \\n {x} \\ntensor: \\n {tensor} \\n\")\n",
    "\n",
    "tensor.add_(5) \n",
    "\n",
    "print(f\"x: \\n {x} \\ntensor: \\n {tensor} \\n\")"
   ]
  },
  {
   "cell_type": "code",
   "execution_count": 47,
   "id": "b1bb43bb-f3f6-42ef-a8b3-68c4b4db9d0e",
   "metadata": {},
   "outputs": [
    {
     "name": "stdout",
     "output_type": "stream",
     "text": [
      "x: \n",
      " tensor([[6., 6., 6., 6.],\n",
      "        [6., 6., 6., 6.],\n",
      "        [6., 6., 6., 6.],\n",
      "        [6., 6., 6., 6.]]) \n",
      "tensor: \n",
      " tensor([[6., 6., 6., 6.],\n",
      "        [6., 6., 6., 6.],\n",
      "        [6., 6., 6., 6.],\n",
      "        [6., 6., 6., 6.]]) \n",
      "\n",
      "x: \n",
      " tensor([[6., 6., 6., 6.],\n",
      "        [6., 6., 6., 6.],\n",
      "        [6., 6., 6., 6.],\n",
      "        [6., 6., 6., 6.]]) \n",
      "tensor: \n",
      " tensor([[11., 11., 11., 11.],\n",
      "        [11., 11., 11., 11.],\n",
      "        [11., 11., 11., 11.],\n",
      "        [11., 11., 11., 11.]]) \n",
      "\n"
     ]
    }
   ],
   "source": [
    "x = torch.ones_like(tensor)\n",
    "x.copy_(tensor)\n",
    "print(f\"x: \\n {x} \\ntensor: \\n {tensor} \\n\")\n",
    "\n",
    "tensor.add_(5) \n",
    "\n",
    "print(f\"x: \\n {x} \\ntensor: \\n {tensor} \\n\")"
   ]
  },
  {
   "cell_type": "markdown",
   "id": "730a0fb9-75e7-4f9d-8dab-a3b0bd33aa2d",
   "metadata": {},
   "source": [
    "### Bridge with NumPy"
   ]
  },
  {
   "cell_type": "markdown",
   "id": "5952380a-c5ef-466a-a1a2-5d8694d747a4",
   "metadata": {},
   "source": [
    "- **Tensors on the CPU and NumPy arrays  can share their underlying memory, locations, and changing one will change the other**"
   ]
  },
  {
   "cell_type": "markdown",
   "id": "fca1122f-5fb0-46e7-947b-a4ca40acd663",
   "metadata": {},
   "source": [
    "Tensor to NumPy array"
   ]
  },
  {
   "cell_type": "code",
   "execution_count": 48,
   "id": "120e5be3-1c34-4b6d-972d-bd9aa9f4c4b7",
   "metadata": {},
   "outputs": [
    {
     "name": "stdout",
     "output_type": "stream",
     "text": [
      "t: tensor([1., 1., 1., 1., 1.])\n",
      "n: [1. 1. 1. 1. 1.]\n"
     ]
    }
   ],
   "source": [
    "t = torch.ones(5)\n",
    "print(f't: {t}')\n",
    "n= t.numpy()\n",
    "print(f\"n: {n}\")"
   ]
  },
  {
   "cell_type": "code",
   "execution_count": 50,
   "id": "3c6560d5-062b-4eeb-b20a-f9650df104e3",
   "metadata": {},
   "outputs": [
    {
     "name": "stdout",
     "output_type": "stream",
     "text": [
      "t: tensor([3., 3., 3., 3., 3.])\n",
      "n: [3. 3. 3. 3. 3.]\n"
     ]
    }
   ],
   "source": [
    "t.add_(2)\n",
    "print(f't: {t}')\n",
    "print(f\"n: {n}\")\n"
   ]
  },
  {
   "cell_type": "code",
   "execution_count": 51,
   "id": "c5fee47e-78c4-4ac3-b04a-6fa762f8bab1",
   "metadata": {},
   "outputs": [
    {
     "name": "stdout",
     "output_type": "stream",
     "text": [
      "t: tensor([8., 8., 8., 8., 8.])\n",
      "n: [8. 8. 8. 8. 8.]\n"
     ]
    }
   ],
   "source": [
    "#and vice versa\n",
    "np.add(n, 5, out=n)\n",
    "print(f't: {t}')\n",
    "print(f\"n: {n}\")"
   ]
  },
  {
   "cell_type": "code",
   "execution_count": null,
   "id": "df3fd4a9-9397-4b0e-9ff2-0e93a91e20de",
   "metadata": {},
   "outputs": [],
   "source": []
  }
 ],
 "metadata": {
  "kernelspec": {
   "display_name": "Python 3 (ipykernel)",
   "language": "python",
   "name": "python3"
  },
  "language_info": {
   "codemirror_mode": {
    "name": "ipython",
    "version": 3
   },
   "file_extension": ".py",
   "mimetype": "text/x-python",
   "name": "python",
   "nbconvert_exporter": "python",
   "pygments_lexer": "ipython3",
   "version": "3.9.13"
  }
 },
 "nbformat": 4,
 "nbformat_minor": 5
}
