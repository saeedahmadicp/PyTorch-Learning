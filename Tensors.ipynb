{
 "cells": [
  {
   "cell_type": "markdown",
   "id": "3bcb608c-c89d-41cf-ae10-84ab50899804",
   "metadata": {},
   "source": [
    "- **Tensors are a specialized data structure that are very similar to arrays and matices**\n",
    "- **In PyTorch, we use tensors to encode the inputs and outputs of a model, as well the model's parameters**\n",
    "- **Tensors are similar to NumPy's ndarrays, except that tensors can run on GPUs or other hardware accelerators**\n",
    "- **Tensors are also optimized for automatic differentiation**\n"
   ]
  },
  {
   "cell_type": "code",
   "execution_count": 1,
   "id": "24613d5b-afd2-4005-8a02-2a1eb355e3e3",
   "metadata": {},
   "outputs": [],
   "source": [
    "import torch\n",
    "import numpy as np"
   ]
  },
  {
   "cell_type": "markdown",
   "id": "14437d61-0405-4f25-a9f1-abbb3a37fe9a",
   "metadata": {
    "tags": []
   },
   "source": [
    "### Initializing a Tensor"
   ]
  },
  {
   "cell_type": "markdown",
   "id": "66e28b6a-c963-465b-8e43-0f3ad85f9675",
   "metadata": {},
   "source": [
    "**Directly from data** <br >\n",
    "Tensors can be created directly from data. The data type is automatically inferred."
   ]
  },
  {
   "cell_type": "code",
   "execution_count": 2,
   "id": "577a37c3-3b41-4a3a-a2d6-5c49937057f7",
   "metadata": {},
   "outputs": [
    {
     "data": {
      "text/plain": [
       "tensor([[1, 2],\n",
       "        [3, 4]])"
      ]
     },
     "execution_count": 2,
     "metadata": {},
     "output_type": "execute_result"
    }
   ],
   "source": [
    "data = [[1,2], [3,4]]\n",
    "x_data = torch.tensor(data)\n",
    "x_data"
   ]
  },
  {
   "cell_type": "markdown",
   "id": "2c404cd1-a351-441f-96dc-12846033ec4a",
   "metadata": {},
   "source": [
    "**From a NumPy array** <br>\n",
    "Tensors can be created from NumPy arrays and vice versa "
   ]
  },
  {
   "cell_type": "code",
   "execution_count": 4,
   "id": "02b5527d-3942-4f23-8333-238e831ff751",
   "metadata": {},
   "outputs": [
    {
     "data": {
      "text/plain": [
       "tensor([[1, 2],\n",
       "        [3, 4]], dtype=torch.int32)"
      ]
     },
     "execution_count": 4,
     "metadata": {},
     "output_type": "execute_result"
    }
   ],
   "source": [
    "np_array = np.array(data)\n",
    "x_np = torch.from_numpy(np_array)\n",
    "x_np"
   ]
  },
  {
   "cell_type": "markdown",
   "id": "7550f7b7-c6b0-4280-96ee-670d0510a007",
   "metadata": {},
   "source": [
    "**From another tensor:** <br>\n",
    "The new tensor retains the properties (shape, datatype) of the arguments tensor, unless explicitly overridden."
   ]
  },
  {
   "cell_type": "code",
   "execution_count": 8,
   "id": "52a314ee-bd0c-4fd2-902d-384707b92ceb",
   "metadata": {},
   "outputs": [
    {
     "name": "stdout",
     "output_type": "stream",
     "text": [
      "Ones Tensor: \n",
      " tensor([[1, 1],\n",
      "        [1, 1]]) \n",
      "\n",
      "Ones tensor  (data type modified): \n",
      " tensor([[1., 1.],\n",
      "        [1., 1.]]) \n",
      "\n"
     ]
    }
   ],
   "source": [
    "x_ones = torch.ones_like(x_data) #retains the properties of the x_data\n",
    "print(f\"Ones Tensor: \\n {x_ones} \\n\")\n",
    "\n",
    "x_ones_modified =torch.ones_like(x_data, dtype=torch.float) #overrides the datatype of x_data\n",
    "print(f\"Ones tensor  (data type modified): \\n {x_ones_modified} \\n\") "
   ]
  },
  {
   "cell_type": "markdown",
   "id": "446bc790-621b-4132-8993-a85dc6e7f87b",
   "metadata": {},
   "source": [
    "**With random or constant values** <br>\n",
    "`shape` is a tuple of tensor dimesions. In the functions below, it determines the dimentionality of the output tensor."
   ]
  },
  {
   "cell_type": "code",
   "execution_count": 10,
   "id": "dbb0c671-10a1-437a-80fe-b98b74f93bf4",
   "metadata": {},
   "outputs": [
    {
     "name": "stdout",
     "output_type": "stream",
     "text": [
      "Random Tensors: \n",
      " tensor([[2.2137e-04, 3.5374e-01, 6.4552e-01],\n",
      "        [1.9461e-02, 7.5213e-01, 7.2621e-01]]) \n",
      "\n",
      "Ones Tensors: \n",
      " tensor([[1., 1., 1.],\n",
      "        [1., 1., 1.]]) \n",
      "\n",
      "Zeros Tensors: \n",
      " tensor([[0., 0., 0.],\n",
      "        [0., 0., 0.]]) \n",
      "\n"
     ]
    }
   ],
   "source": [
    "shape = (2, 3)\n",
    "rand_tensor = torch.rand(shape)\n",
    "ones_tensor = torch.ones(shape)\n",
    "zeros_tensor = torch.zeros(shape)\n",
    "\n",
    "print(f\"Random Tensors: \\n {rand_tensor} \\n\")\n",
    "print(f\"Ones Tensors: \\n {ones_tensor} \\n\")\n",
    "print(f\"Zeros Tensors: \\n {zeros_tensor } \\n\")"
   ]
  },
  {
   "cell_type": "markdown",
   "id": "36a0eaee-daf8-4bd0-826b-cdbce8a59581",
   "metadata": {},
   "source": [
    "### Attributes of a Tensor"
   ]
  },
  {
   "cell_type": "markdown",
   "id": "42195dae-8755-4880-856d-84d2408c2bf8",
   "metadata": {},
   "source": [
    "**Tensor attributes describe their shape, datatype, and the device on which they are stored**"
   ]
  },
  {
   "cell_type": "code",
   "execution_count": null,
   "id": "a4bdf32d-9a8d-4df4-b505-4153dab90c39",
   "metadata": {},
   "outputs": [],
   "source": [
    "tensor = torch.ones(4,5)\n",
    "\n",
    "print(f\"Shape of the tensor: \\n {tensor.shape"
   ]
  }
 ],
 "metadata": {
  "kernelspec": {
   "display_name": "Python 3 (ipykernel)",
   "language": "python",
   "name": "python3"
  },
  "language_info": {
   "codemirror_mode": {
    "name": "ipython",
    "version": 3
   },
   "file_extension": ".py",
   "mimetype": "text/x-python",
   "name": "python",
   "nbconvert_exporter": "python",
   "pygments_lexer": "ipython3",
   "version": "3.9.13"
  }
 },
 "nbformat": 4,
 "nbformat_minor": 5
}
